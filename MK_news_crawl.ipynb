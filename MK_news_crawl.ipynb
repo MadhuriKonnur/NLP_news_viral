{
 "cells": [
  {
   "cell_type": "markdown",
   "metadata": {},
   "source": [
    "Here crawling https://timesofindia.indiatimes.com website for news and information."
   ]
  },
  {
   "cell_type": "code",
   "execution_count": 1,
   "metadata": {},
   "outputs": [],
   "source": [
    "#Importing  libraries\n",
    "import time\n",
    "import requests\n",
    "from bs4 import BeautifulSoup\n",
    "from newspaper import Article  \n",
    "import csv \n",
    "import pandas as pd\n",
    "import numpy as np"
   ]
  },
  {
   "cell_type": "code",
   "execution_count": 2,
   "metadata": {},
   "outputs": [],
   "source": [
    "# url of website to scrape\n",
    "url = \"https://timesofindia.indiatimes.com/india/opinions-and-features\"\n",
    "r = requests.get(url)"
   ]
  },
  {
   "cell_type": "code",
   "execution_count": 3,
   "metadata": {},
   "outputs": [],
   "source": [
    "soup = BeautifulSoup(r.content, 'html5lib') \n",
    "table = soup.findAll('a', attrs = {'class':'w_img'})"
   ]
  },
  {
   "cell_type": "code",
   "execution_count": 7,
   "metadata": {},
   "outputs": [],
   "source": [
    "# collect  news  links and appending with base url\n",
    "news=[]\n",
    "for row in table: \n",
    "    if not row['href'].startswith('http'):\n",
    "        news.append('https://timesofindia.indiatimes.com'+row['href'])"
   ]
  },
  {
   "cell_type": "code",
   "execution_count": 11,
   "metadata": {},
   "outputs": [],
   "source": [
    "# To extract data from above obtained news links like title,,text,summary etc\n",
    "df=[]\n",
    "for i in news:\n",
    "    article = Article(i, language=\"en\")\n",
    "    article.download()\n",
    "    article.parse() \n",
    "    article.nlp() \n",
    "    data={}\n",
    "    data['Title']=article.title\n",
    "    data['link']=article.canonical_link\n",
    "    data['image']=article.meta_img\n",
    "    data['Text']=article.text\n",
    "    data['Summary']=article.summary\n",
    "    data['Keywords']=article.keywords\n",
    "    df.append(data)"
   ]
  },
  {
   "cell_type": "code",
   "execution_count": 12,
   "metadata": {},
   "outputs": [],
   "source": [
    "#df"
   ]
  },
  {
   "cell_type": "code",
   "execution_count": 13,
   "metadata": {},
   "outputs": [
    {
     "data": {
      "text/plain": [
       "(47, 6)"
      ]
     },
     "execution_count": 13,
     "metadata": {},
     "output_type": "execute_result"
    }
   ],
   "source": [
    "# Transferring all data into dataframe\n",
    "dataset=pd.DataFrame(df)\n",
    "dataset.shape"
   ]
  },
  {
   "cell_type": "code",
   "execution_count": 14,
   "metadata": {},
   "outputs": [
    {
     "data": {
      "text/html": [
       "<div>\n",
       "<style scoped>\n",
       "    .dataframe tbody tr th:only-of-type {\n",
       "        vertical-align: middle;\n",
       "    }\n",
       "\n",
       "    .dataframe tbody tr th {\n",
       "        vertical-align: top;\n",
       "    }\n",
       "\n",
       "    .dataframe thead th {\n",
       "        text-align: right;\n",
       "    }\n",
       "</style>\n",
       "<table border=\"1\" class=\"dataframe\">\n",
       "  <thead>\n",
       "    <tr style=\"text-align: right;\">\n",
       "      <th></th>\n",
       "      <th>Keywords</th>\n",
       "      <th>Summary</th>\n",
       "      <th>Text</th>\n",
       "      <th>Title</th>\n",
       "      <th>image</th>\n",
       "      <th>link</th>\n",
       "    </tr>\n",
       "  </thead>\n",
       "  <tbody>\n",
       "    <tr>\n",
       "      <th>0</th>\n",
       "      <td>[post, transactions, nearly, using, banking, n...</td>\n",
       "      <td>NEW DELHI: When some migrant labourers were st...</td>\n",
       "      <td>NEW DELHI: When some migrant labourers were st...</td>\n",
       "      <td>India Post is more than just the ubiquitous re...</td>\n",
       "      <td>https://static.toiimg.com/thumb/msid-75365535,...</td>\n",
       "      <td>https://timesofindia.indiatimes.com/india/covi...</td>\n",
       "    </tr>\n",
       "    <tr>\n",
       "      <th>1</th>\n",
       "      <td>[mumbai, social, regular, fernandes, cafe, coo...</td>\n",
       "      <td>I don’t think restaurants and pubs are coming ...</td>\n",
       "      <td>MUMBAI: When popular restaurants—Bombay Cantee...</td>\n",
       "      <td>Mumbai restaurants cook up new ideas to keep p...</td>\n",
       "      <td>https://static.toiimg.com/thumb/msid-75338371,...</td>\n",
       "      <td>https://timesofindia.indiatimes.com/city/mumba...</td>\n",
       "    </tr>\n",
       "    <tr>\n",
       "      <th>2</th>\n",
       "      <td>[balcony, balconies, lockdown, online, help, n...</td>\n",
       "      <td>They plan to continue with their effort at ent...</td>\n",
       "      <td>NEW DELHI: Musician Hitesh Madan is used to pl...</td>\n",
       "      <td>Balcony concerts help locked-down Delhiites be...</td>\n",
       "      <td>https://static.toiimg.com/thumb/msid-75309684,...</td>\n",
       "      <td>https://timesofindia.indiatimes.com/city/delhi...</td>\n",
       "    </tr>\n",
       "    <tr>\n",
       "      <th>3</th>\n",
       "      <td>[money, relief, covid19, coimbatore, fight, fu...</td>\n",
       "      <td>“We use the interest amount from the trust fun...</td>\n",
       "      <td>Even as many young, affluent and employed indi...</td>\n",
       "      <td>80-plus &amp; leading from the front in Covid-19 f...</td>\n",
       "      <td>https://static.toiimg.com/thumb/msid-75285787,...</td>\n",
       "      <td>https://timesofindia.indiatimes.com/city/chenn...</td>\n",
       "    </tr>\n",
       "    <tr>\n",
       "      <th>4</th>\n",
       "      <td>[grassroots, force, covid19, district, covid, ...</td>\n",
       "      <td>CHENNAI: As India struggled to cope with a pan...</td>\n",
       "      <td>CHENNAI: As India struggled to cope with a pan...</td>\n",
       "      <td>Local bodies a wasted force in grassroots figh...</td>\n",
       "      <td>https://static.toiimg.com/thumb/msid-75266336,...</td>\n",
       "      <td>https://timesofindia.indiatimes.com/local-bodi...</td>\n",
       "    </tr>\n",
       "  </tbody>\n",
       "</table>\n",
       "</div>"
      ],
      "text/plain": [
       "                                            Keywords  \\\n",
       "0  [post, transactions, nearly, using, banking, n...   \n",
       "1  [mumbai, social, regular, fernandes, cafe, coo...   \n",
       "2  [balcony, balconies, lockdown, online, help, n...   \n",
       "3  [money, relief, covid19, coimbatore, fight, fu...   \n",
       "4  [grassroots, force, covid19, district, covid, ...   \n",
       "\n",
       "                                             Summary  \\\n",
       "0  NEW DELHI: When some migrant labourers were st...   \n",
       "1  I don’t think restaurants and pubs are coming ...   \n",
       "2  They plan to continue with their effort at ent...   \n",
       "3  “We use the interest amount from the trust fun...   \n",
       "4  CHENNAI: As India struggled to cope with a pan...   \n",
       "\n",
       "                                                Text  \\\n",
       "0  NEW DELHI: When some migrant labourers were st...   \n",
       "1  MUMBAI: When popular restaurants—Bombay Cantee...   \n",
       "2  NEW DELHI: Musician Hitesh Madan is used to pl...   \n",
       "3  Even as many young, affluent and employed indi...   \n",
       "4  CHENNAI: As India struggled to cope with a pan...   \n",
       "\n",
       "                                               Title  \\\n",
       "0  India Post is more than just the ubiquitous re...   \n",
       "1  Mumbai restaurants cook up new ideas to keep p...   \n",
       "2  Balcony concerts help locked-down Delhiites be...   \n",
       "3  80-plus & leading from the front in Covid-19 f...   \n",
       "4  Local bodies a wasted force in grassroots figh...   \n",
       "\n",
       "                                               image  \\\n",
       "0  https://static.toiimg.com/thumb/msid-75365535,...   \n",
       "1  https://static.toiimg.com/thumb/msid-75338371,...   \n",
       "2  https://static.toiimg.com/thumb/msid-75309684,...   \n",
       "3  https://static.toiimg.com/thumb/msid-75285787,...   \n",
       "4  https://static.toiimg.com/thumb/msid-75266336,...   \n",
       "\n",
       "                                                link  \n",
       "0  https://timesofindia.indiatimes.com/india/covi...  \n",
       "1  https://timesofindia.indiatimes.com/city/mumba...  \n",
       "2  https://timesofindia.indiatimes.com/city/delhi...  \n",
       "3  https://timesofindia.indiatimes.com/city/chenn...  \n",
       "4  https://timesofindia.indiatimes.com/local-bodi...  "
      ]
     },
     "execution_count": 14,
     "metadata": {},
     "output_type": "execute_result"
    }
   ],
   "source": [
    "dataset.head()"
   ]
  },
  {
   "cell_type": "code",
   "execution_count": 15,
   "metadata": {},
   "outputs": [],
   "source": [
    "# moving data into .csv file\n",
    "dataset.to_csv('newsdata.csv',index=False)"
   ]
  },
  {
   "cell_type": "code",
   "execution_count": 16,
   "metadata": {},
   "outputs": [],
   "source": [
    "# Verify by reading data\n",
    "news_data= pd.read_csv('newsdata.csv')"
   ]
  },
  {
   "cell_type": "code",
   "execution_count": 17,
   "metadata": {},
   "outputs": [
    {
     "data": {
      "text/html": [
       "<div>\n",
       "<style scoped>\n",
       "    .dataframe tbody tr th:only-of-type {\n",
       "        vertical-align: middle;\n",
       "    }\n",
       "\n",
       "    .dataframe tbody tr th {\n",
       "        vertical-align: top;\n",
       "    }\n",
       "\n",
       "    .dataframe thead th {\n",
       "        text-align: right;\n",
       "    }\n",
       "</style>\n",
       "<table border=\"1\" class=\"dataframe\">\n",
       "  <thead>\n",
       "    <tr style=\"text-align: right;\">\n",
       "      <th></th>\n",
       "      <th>Keywords</th>\n",
       "      <th>Summary</th>\n",
       "      <th>Text</th>\n",
       "      <th>Title</th>\n",
       "      <th>image</th>\n",
       "      <th>link</th>\n",
       "    </tr>\n",
       "  </thead>\n",
       "  <tbody>\n",
       "    <tr>\n",
       "      <th>0</th>\n",
       "      <td>['post', 'transactions', 'nearly', 'using', 'b...</td>\n",
       "      <td>NEW DELHI: When some migrant labourers were st...</td>\n",
       "      <td>NEW DELHI: When some migrant labourers were st...</td>\n",
       "      <td>India Post is more than just the ubiquitous re...</td>\n",
       "      <td>https://static.toiimg.com/thumb/msid-75365535,...</td>\n",
       "      <td>https://timesofindia.indiatimes.com/india/covi...</td>\n",
       "    </tr>\n",
       "    <tr>\n",
       "      <th>1</th>\n",
       "      <td>['mumbai', 'social', 'regular', 'fernandes', '...</td>\n",
       "      <td>I don’t think restaurants and pubs are coming ...</td>\n",
       "      <td>MUMBAI: When popular restaurants—Bombay Cantee...</td>\n",
       "      <td>Mumbai restaurants cook up new ideas to keep p...</td>\n",
       "      <td>https://static.toiimg.com/thumb/msid-75338371,...</td>\n",
       "      <td>https://timesofindia.indiatimes.com/city/mumba...</td>\n",
       "    </tr>\n",
       "    <tr>\n",
       "      <th>2</th>\n",
       "      <td>['balcony', 'balconies', 'lockdown', 'online',...</td>\n",
       "      <td>They plan to continue with their effort at ent...</td>\n",
       "      <td>NEW DELHI: Musician Hitesh Madan is used to pl...</td>\n",
       "      <td>Balcony concerts help locked-down Delhiites be...</td>\n",
       "      <td>https://static.toiimg.com/thumb/msid-75309684,...</td>\n",
       "      <td>https://timesofindia.indiatimes.com/city/delhi...</td>\n",
       "    </tr>\n",
       "    <tr>\n",
       "      <th>3</th>\n",
       "      <td>['money', 'relief', 'covid19', 'coimbatore', '...</td>\n",
       "      <td>“We use the interest amount from the trust fun...</td>\n",
       "      <td>Even as many young, affluent and employed indi...</td>\n",
       "      <td>80-plus &amp; leading from the front in Covid-19 f...</td>\n",
       "      <td>https://static.toiimg.com/thumb/msid-75285787,...</td>\n",
       "      <td>https://timesofindia.indiatimes.com/city/chenn...</td>\n",
       "    </tr>\n",
       "    <tr>\n",
       "      <th>4</th>\n",
       "      <td>['grassroots', 'force', 'covid19', 'district',...</td>\n",
       "      <td>CHENNAI: As India struggled to cope with a pan...</td>\n",
       "      <td>CHENNAI: As India struggled to cope with a pan...</td>\n",
       "      <td>Local bodies a wasted force in grassroots figh...</td>\n",
       "      <td>https://static.toiimg.com/thumb/msid-75266336,...</td>\n",
       "      <td>https://timesofindia.indiatimes.com/local-bodi...</td>\n",
       "    </tr>\n",
       "  </tbody>\n",
       "</table>\n",
       "</div>"
      ],
      "text/plain": [
       "                                            Keywords  \\\n",
       "0  ['post', 'transactions', 'nearly', 'using', 'b...   \n",
       "1  ['mumbai', 'social', 'regular', 'fernandes', '...   \n",
       "2  ['balcony', 'balconies', 'lockdown', 'online',...   \n",
       "3  ['money', 'relief', 'covid19', 'coimbatore', '...   \n",
       "4  ['grassroots', 'force', 'covid19', 'district',...   \n",
       "\n",
       "                                             Summary  \\\n",
       "0  NEW DELHI: When some migrant labourers were st...   \n",
       "1  I don’t think restaurants and pubs are coming ...   \n",
       "2  They plan to continue with their effort at ent...   \n",
       "3  “We use the interest amount from the trust fun...   \n",
       "4  CHENNAI: As India struggled to cope with a pan...   \n",
       "\n",
       "                                                Text  \\\n",
       "0  NEW DELHI: When some migrant labourers were st...   \n",
       "1  MUMBAI: When popular restaurants—Bombay Cantee...   \n",
       "2  NEW DELHI: Musician Hitesh Madan is used to pl...   \n",
       "3  Even as many young, affluent and employed indi...   \n",
       "4  CHENNAI: As India struggled to cope with a pan...   \n",
       "\n",
       "                                               Title  \\\n",
       "0  India Post is more than just the ubiquitous re...   \n",
       "1  Mumbai restaurants cook up new ideas to keep p...   \n",
       "2  Balcony concerts help locked-down Delhiites be...   \n",
       "3  80-plus & leading from the front in Covid-19 f...   \n",
       "4  Local bodies a wasted force in grassroots figh...   \n",
       "\n",
       "                                               image  \\\n",
       "0  https://static.toiimg.com/thumb/msid-75365535,...   \n",
       "1  https://static.toiimg.com/thumb/msid-75338371,...   \n",
       "2  https://static.toiimg.com/thumb/msid-75309684,...   \n",
       "3  https://static.toiimg.com/thumb/msid-75285787,...   \n",
       "4  https://static.toiimg.com/thumb/msid-75266336,...   \n",
       "\n",
       "                                                link  \n",
       "0  https://timesofindia.indiatimes.com/india/covi...  \n",
       "1  https://timesofindia.indiatimes.com/city/mumba...  \n",
       "2  https://timesofindia.indiatimes.com/city/delhi...  \n",
       "3  https://timesofindia.indiatimes.com/city/chenn...  \n",
       "4  https://timesofindia.indiatimes.com/local-bodi...  "
      ]
     },
     "execution_count": 17,
     "metadata": {},
     "output_type": "execute_result"
    }
   ],
   "source": [
    "news_data.head()"
   ]
  },
  {
   "cell_type": "code",
   "execution_count": null,
   "metadata": {},
   "outputs": [],
   "source": []
  }
 ],
 "metadata": {
  "kernelspec": {
   "display_name": "Python 3",
   "language": "python",
   "name": "python3"
  },
  "language_info": {
   "codemirror_mode": {
    "name": "ipython",
    "version": 3
   },
   "file_extension": ".py",
   "mimetype": "text/x-python",
   "name": "python",
   "nbconvert_exporter": "python",
   "pygments_lexer": "ipython3",
   "version": "3.6.5"
  }
 },
 "nbformat": 4,
 "nbformat_minor": 2
}

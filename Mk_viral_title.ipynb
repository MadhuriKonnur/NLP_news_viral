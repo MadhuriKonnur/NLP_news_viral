{
 "cells": [
  {
   "cell_type": "markdown",
   "metadata": {},
   "source": [
    "Prediction of news going viral\n",
    "\n",
    "As a pre internship assignment from Bipolar  factory.\n",
    "Crawled news information and  optained in the form of .csv file (\"newsdata.csv\")\n",
    "ref: MK_news_crawl.ipynb\n",
    "\n",
    "By: Madhuri Konnur"
   ]
  },
  {
   "cell_type": "code",
   "execution_count": 132,
   "metadata": {},
   "outputs": [],
   "source": [
    "import pandas as pd\n",
    "import numpy as np"
   ]
  },
  {
   "cell_type": "code",
   "execution_count": 133,
   "metadata": {},
   "outputs": [],
   "source": [
    "# reading .csv data\n",
    "newsdata=pd.read_csv(\"newsdata.csv\")"
   ]
  },
  {
   "cell_type": "code",
   "execution_count": 134,
   "metadata": {},
   "outputs": [
    {
     "data": {
      "text/html": [
       "<div>\n",
       "<style scoped>\n",
       "    .dataframe tbody tr th:only-of-type {\n",
       "        vertical-align: middle;\n",
       "    }\n",
       "\n",
       "    .dataframe tbody tr th {\n",
       "        vertical-align: top;\n",
       "    }\n",
       "\n",
       "    .dataframe thead th {\n",
       "        text-align: right;\n",
       "    }\n",
       "</style>\n",
       "<table border=\"1\" class=\"dataframe\">\n",
       "  <thead>\n",
       "    <tr style=\"text-align: right;\">\n",
       "      <th></th>\n",
       "      <th>Keywords</th>\n",
       "      <th>Summary</th>\n",
       "      <th>Text</th>\n",
       "      <th>Title</th>\n",
       "      <th>image</th>\n",
       "      <th>link</th>\n",
       "    </tr>\n",
       "  </thead>\n",
       "  <tbody>\n",
       "    <tr>\n",
       "      <th>0</th>\n",
       "      <td>['post', 'transactions', 'nearly', 'using', 'b...</td>\n",
       "      <td>NEW DELHI: When some migrant labourers were st...</td>\n",
       "      <td>NEW DELHI: When some migrant labourers were st...</td>\n",
       "      <td>India Post is more than just the ubiquitous re...</td>\n",
       "      <td>https://static.toiimg.com/thumb/msid-75365535,...</td>\n",
       "      <td>https://timesofindia.indiatimes.com/india/covi...</td>\n",
       "    </tr>\n",
       "    <tr>\n",
       "      <th>1</th>\n",
       "      <td>['mumbai', 'social', 'regular', 'fernandes', '...</td>\n",
       "      <td>I don’t think restaurants and pubs are coming ...</td>\n",
       "      <td>MUMBAI: When popular restaurants—Bombay Cantee...</td>\n",
       "      <td>Mumbai restaurants cook up new ideas to keep p...</td>\n",
       "      <td>https://static.toiimg.com/thumb/msid-75338371,...</td>\n",
       "      <td>https://timesofindia.indiatimes.com/city/mumba...</td>\n",
       "    </tr>\n",
       "    <tr>\n",
       "      <th>2</th>\n",
       "      <td>['balcony', 'balconies', 'lockdown', 'online',...</td>\n",
       "      <td>They plan to continue with their effort at ent...</td>\n",
       "      <td>NEW DELHI: Musician Hitesh Madan is used to pl...</td>\n",
       "      <td>Balcony concerts help locked-down Delhiites be...</td>\n",
       "      <td>https://static.toiimg.com/thumb/msid-75309684,...</td>\n",
       "      <td>https://timesofindia.indiatimes.com/city/delhi...</td>\n",
       "    </tr>\n",
       "    <tr>\n",
       "      <th>3</th>\n",
       "      <td>['money', 'relief', 'covid19', 'coimbatore', '...</td>\n",
       "      <td>“We use the interest amount from the trust fun...</td>\n",
       "      <td>Even as many young, affluent and employed indi...</td>\n",
       "      <td>80-plus &amp; leading from the front in Covid-19 f...</td>\n",
       "      <td>https://static.toiimg.com/thumb/msid-75285787,...</td>\n",
       "      <td>https://timesofindia.indiatimes.com/city/chenn...</td>\n",
       "    </tr>\n",
       "    <tr>\n",
       "      <th>4</th>\n",
       "      <td>['grassroots', 'force', 'covid19', 'district',...</td>\n",
       "      <td>CHENNAI: As India struggled to cope with a pan...</td>\n",
       "      <td>CHENNAI: As India struggled to cope with a pan...</td>\n",
       "      <td>Local bodies a wasted force in grassroots figh...</td>\n",
       "      <td>https://static.toiimg.com/thumb/msid-75266336,...</td>\n",
       "      <td>https://timesofindia.indiatimes.com/local-bodi...</td>\n",
       "    </tr>\n",
       "  </tbody>\n",
       "</table>\n",
       "</div>"
      ],
      "text/plain": [
       "                                            Keywords  \\\n",
       "0  ['post', 'transactions', 'nearly', 'using', 'b...   \n",
       "1  ['mumbai', 'social', 'regular', 'fernandes', '...   \n",
       "2  ['balcony', 'balconies', 'lockdown', 'online',...   \n",
       "3  ['money', 'relief', 'covid19', 'coimbatore', '...   \n",
       "4  ['grassroots', 'force', 'covid19', 'district',...   \n",
       "\n",
       "                                             Summary  \\\n",
       "0  NEW DELHI: When some migrant labourers were st...   \n",
       "1  I don’t think restaurants and pubs are coming ...   \n",
       "2  They plan to continue with their effort at ent...   \n",
       "3  “We use the interest amount from the trust fun...   \n",
       "4  CHENNAI: As India struggled to cope with a pan...   \n",
       "\n",
       "                                                Text  \\\n",
       "0  NEW DELHI: When some migrant labourers were st...   \n",
       "1  MUMBAI: When popular restaurants—Bombay Cantee...   \n",
       "2  NEW DELHI: Musician Hitesh Madan is used to pl...   \n",
       "3  Even as many young, affluent and employed indi...   \n",
       "4  CHENNAI: As India struggled to cope with a pan...   \n",
       "\n",
       "                                               Title  \\\n",
       "0  India Post is more than just the ubiquitous re...   \n",
       "1  Mumbai restaurants cook up new ideas to keep p...   \n",
       "2  Balcony concerts help locked-down Delhiites be...   \n",
       "3  80-plus & leading from the front in Covid-19 f...   \n",
       "4  Local bodies a wasted force in grassroots figh...   \n",
       "\n",
       "                                               image  \\\n",
       "0  https://static.toiimg.com/thumb/msid-75365535,...   \n",
       "1  https://static.toiimg.com/thumb/msid-75338371,...   \n",
       "2  https://static.toiimg.com/thumb/msid-75309684,...   \n",
       "3  https://static.toiimg.com/thumb/msid-75285787,...   \n",
       "4  https://static.toiimg.com/thumb/msid-75266336,...   \n",
       "\n",
       "                                                link  \n",
       "0  https://timesofindia.indiatimes.com/india/covi...  \n",
       "1  https://timesofindia.indiatimes.com/city/mumba...  \n",
       "2  https://timesofindia.indiatimes.com/city/delhi...  \n",
       "3  https://timesofindia.indiatimes.com/city/chenn...  \n",
       "4  https://timesofindia.indiatimes.com/local-bodi...  "
      ]
     },
     "execution_count": 134,
     "metadata": {},
     "output_type": "execute_result"
    }
   ],
   "source": [
    "newsdata.head()"
   ]
  },
  {
   "cell_type": "code",
   "execution_count": 143,
   "metadata": {},
   "outputs": [],
   "source": [
    "# removing  some unwanted  characters\n",
    "\n",
    "newsdata=newsdata.replace('\\[','',regex=True)"
   ]
  },
  {
   "cell_type": "code",
   "execution_count": 144,
   "metadata": {},
   "outputs": [
    {
     "data": {
      "text/html": [
       "<div>\n",
       "<style scoped>\n",
       "    .dataframe tbody tr th:only-of-type {\n",
       "        vertical-align: middle;\n",
       "    }\n",
       "\n",
       "    .dataframe tbody tr th {\n",
       "        vertical-align: top;\n",
       "    }\n",
       "\n",
       "    .dataframe thead th {\n",
       "        text-align: right;\n",
       "    }\n",
       "</style>\n",
       "<table border=\"1\" class=\"dataframe\">\n",
       "  <thead>\n",
       "    <tr style=\"text-align: right;\">\n",
       "      <th></th>\n",
       "      <th>Keywords</th>\n",
       "      <th>Summary</th>\n",
       "      <th>Text</th>\n",
       "      <th>Title</th>\n",
       "      <th>image</th>\n",
       "      <th>link</th>\n",
       "    </tr>\n",
       "  </thead>\n",
       "  <tbody>\n",
       "    <tr>\n",
       "      <th>0</th>\n",
       "      <td>post, transactions, nearly, using, banking, ne...</td>\n",
       "      <td>NEW DELHI: When some migrant labourers were st...</td>\n",
       "      <td>NEW DELHI: When some migrant labourers were st...</td>\n",
       "      <td>India Post is more than just the ubiquitous re...</td>\n",
       "      <td>https://static.toiimg.com/thumb/msid-75365535,...</td>\n",
       "      <td>https://timesofindia.indiatimes.com/india/covi...</td>\n",
       "    </tr>\n",
       "    <tr>\n",
       "      <th>1</th>\n",
       "      <td>mumbai, social, regular, fernandes, cafe, cook...</td>\n",
       "      <td>I don’t think restaurants and pubs are coming ...</td>\n",
       "      <td>MUMBAI: When popular restaurants—Bombay Cantee...</td>\n",
       "      <td>Mumbai restaurants cook up new ideas to keep p...</td>\n",
       "      <td>https://static.toiimg.com/thumb/msid-75338371,...</td>\n",
       "      <td>https://timesofindia.indiatimes.com/city/mumba...</td>\n",
       "    </tr>\n",
       "    <tr>\n",
       "      <th>2</th>\n",
       "      <td>balcony, balconies, lockdown, online, help, ne...</td>\n",
       "      <td>They plan to continue with their effort at ent...</td>\n",
       "      <td>NEW DELHI: Musician Hitesh Madan is used to pl...</td>\n",
       "      <td>Balcony concerts help locked-down Delhiites be...</td>\n",
       "      <td>https://static.toiimg.com/thumb/msid-75309684,...</td>\n",
       "      <td>https://timesofindia.indiatimes.com/city/delhi...</td>\n",
       "    </tr>\n",
       "    <tr>\n",
       "      <th>3</th>\n",
       "      <td>money, relief, covid19, coimbatore, fight, fun...</td>\n",
       "      <td>“We use the interest amount from the trust fun...</td>\n",
       "      <td>Even as many young, affluent and employed indi...</td>\n",
       "      <td>80-plus &amp; leading from the front in Covid-19 f...</td>\n",
       "      <td>https://static.toiimg.com/thumb/msid-75285787,...</td>\n",
       "      <td>https://timesofindia.indiatimes.com/city/chenn...</td>\n",
       "    </tr>\n",
       "    <tr>\n",
       "      <th>4</th>\n",
       "      <td>grassroots, force, covid19, district, covid, l...</td>\n",
       "      <td>CHENNAI: As India struggled to cope with a pan...</td>\n",
       "      <td>CHENNAI: As India struggled to cope with a pan...</td>\n",
       "      <td>Local bodies a wasted force in grassroots figh...</td>\n",
       "      <td>https://static.toiimg.com/thumb/msid-75266336,...</td>\n",
       "      <td>https://timesofindia.indiatimes.com/local-bodi...</td>\n",
       "    </tr>\n",
       "  </tbody>\n",
       "</table>\n",
       "</div>"
      ],
      "text/plain": [
       "                                            Keywords  \\\n",
       "0  post, transactions, nearly, using, banking, ne...   \n",
       "1  mumbai, social, regular, fernandes, cafe, cook...   \n",
       "2  balcony, balconies, lockdown, online, help, ne...   \n",
       "3  money, relief, covid19, coimbatore, fight, fun...   \n",
       "4  grassroots, force, covid19, district, covid, l...   \n",
       "\n",
       "                                             Summary  \\\n",
       "0  NEW DELHI: When some migrant labourers were st...   \n",
       "1  I don’t think restaurants and pubs are coming ...   \n",
       "2  They plan to continue with their effort at ent...   \n",
       "3  “We use the interest amount from the trust fun...   \n",
       "4  CHENNAI: As India struggled to cope with a pan...   \n",
       "\n",
       "                                                Text  \\\n",
       "0  NEW DELHI: When some migrant labourers were st...   \n",
       "1  MUMBAI: When popular restaurants—Bombay Cantee...   \n",
       "2  NEW DELHI: Musician Hitesh Madan is used to pl...   \n",
       "3  Even as many young, affluent and employed indi...   \n",
       "4  CHENNAI: As India struggled to cope with a pan...   \n",
       "\n",
       "                                               Title  \\\n",
       "0  India Post is more than just the ubiquitous re...   \n",
       "1  Mumbai restaurants cook up new ideas to keep p...   \n",
       "2  Balcony concerts help locked-down Delhiites be...   \n",
       "3  80-plus & leading from the front in Covid-19 f...   \n",
       "4  Local bodies a wasted force in grassroots figh...   \n",
       "\n",
       "                                               image  \\\n",
       "0  https://static.toiimg.com/thumb/msid-75365535,...   \n",
       "1  https://static.toiimg.com/thumb/msid-75338371,...   \n",
       "2  https://static.toiimg.com/thumb/msid-75309684,...   \n",
       "3  https://static.toiimg.com/thumb/msid-75285787,...   \n",
       "4  https://static.toiimg.com/thumb/msid-75266336,...   \n",
       "\n",
       "                                                link  \n",
       "0  https://timesofindia.indiatimes.com/india/covi...  \n",
       "1  https://timesofindia.indiatimes.com/city/mumba...  \n",
       "2  https://timesofindia.indiatimes.com/city/delhi...  \n",
       "3  https://timesofindia.indiatimes.com/city/chenn...  \n",
       "4  https://timesofindia.indiatimes.com/local-bodi...  "
      ]
     },
     "execution_count": 144,
     "metadata": {},
     "output_type": "execute_result"
    }
   ],
   "source": [
    "newsdata.head()"
   ]
  },
  {
   "cell_type": "code",
   "execution_count": 145,
   "metadata": {},
   "outputs": [
    {
     "name": "stderr",
     "output_type": "stream",
     "text": [
      "c:\\users\\madhu\\miniconda3\\lib\\site-packages\\ipykernel_launcher.py:5: SettingWithCopyWarning: \n",
      "A value is trying to be set on a copy of a slice from a DataFrame.\n",
      "Try using .loc[row_indexer,col_indexer] = value instead\n",
      "\n",
      "See the caveats in the documentation: http://pandas.pydata.org/pandas-docs/stable/indexing.html#indexing-view-versus-copy\n",
      "  \"\"\"\n"
     ]
    }
   ],
   "source": [
    "# first catch of  news is by its headline .i.e here Title.\n",
    "# So based Title data planning to predict it's score  or virality based on highest score\n",
    "\n",
    "data_text = newsdata[['Title']]\n",
    "data_text['index'] = data_text.index\n",
    "doc_title = data_text\n"
   ]
  },
  {
   "cell_type": "code",
   "execution_count": 146,
   "metadata": {},
   "outputs": [
    {
     "data": {
      "text/plain": [
       "47"
      ]
     },
     "execution_count": 146,
     "metadata": {},
     "output_type": "execute_result"
    }
   ],
   "source": [
    "len(doc_title)"
   ]
  },
  {
   "cell_type": "code",
   "execution_count": 147,
   "metadata": {},
   "outputs": [
    {
     "data": {
      "text/html": [
       "<div>\n",
       "<style scoped>\n",
       "    .dataframe tbody tr th:only-of-type {\n",
       "        vertical-align: middle;\n",
       "    }\n",
       "\n",
       "    .dataframe tbody tr th {\n",
       "        vertical-align: top;\n",
       "    }\n",
       "\n",
       "    .dataframe thead th {\n",
       "        text-align: right;\n",
       "    }\n",
       "</style>\n",
       "<table border=\"1\" class=\"dataframe\">\n",
       "  <thead>\n",
       "    <tr style=\"text-align: right;\">\n",
       "      <th></th>\n",
       "      <th>Title</th>\n",
       "      <th>index</th>\n",
       "    </tr>\n",
       "  </thead>\n",
       "  <tbody>\n",
       "    <tr>\n",
       "      <th>0</th>\n",
       "      <td>India Post is more than just the ubiquitous re...</td>\n",
       "      <td>0</td>\n",
       "    </tr>\n",
       "    <tr>\n",
       "      <th>1</th>\n",
       "      <td>Mumbai restaurants cook up new ideas to keep p...</td>\n",
       "      <td>1</td>\n",
       "    </tr>\n",
       "    <tr>\n",
       "      <th>2</th>\n",
       "      <td>Balcony concerts help locked-down Delhiites be...</td>\n",
       "      <td>2</td>\n",
       "    </tr>\n",
       "    <tr>\n",
       "      <th>3</th>\n",
       "      <td>80-plus &amp; leading from the front in Covid-19 f...</td>\n",
       "      <td>3</td>\n",
       "    </tr>\n",
       "    <tr>\n",
       "      <th>4</th>\n",
       "      <td>Local bodies a wasted force in grassroots figh...</td>\n",
       "      <td>4</td>\n",
       "    </tr>\n",
       "  </tbody>\n",
       "</table>\n",
       "</div>"
      ],
      "text/plain": [
       "                                               Title  index\n",
       "0  India Post is more than just the ubiquitous re...      0\n",
       "1  Mumbai restaurants cook up new ideas to keep p...      1\n",
       "2  Balcony concerts help locked-down Delhiites be...      2\n",
       "3  80-plus & leading from the front in Covid-19 f...      3\n",
       "4  Local bodies a wasted force in grassroots figh...      4"
      ]
     },
     "execution_count": 147,
     "metadata": {},
     "output_type": "execute_result"
    }
   ],
   "source": [
    "doc_title.head()"
   ]
  },
  {
   "cell_type": "markdown",
   "metadata": {},
   "source": [
    "### making data  ready  by processing data"
   ]
  },
  {
   "cell_type": "code",
   "execution_count": 148,
   "metadata": {},
   "outputs": [],
   "source": [
    "# importing libraries\n",
    "import gensim\n",
    "from gensim.utils import simple_preprocess\n",
    "from gensim.parsing.preprocessing import STOPWORDS\n",
    "from nltk.stem import WordNetLemmatizer, SnowballStemmer\n",
    "from nltk.stem.porter import *\n",
    "np.random.seed(2020)"
   ]
  },
  {
   "cell_type": "code",
   "execution_count": 149,
   "metadata": {},
   "outputs": [
    {
     "name": "stderr",
     "output_type": "stream",
     "text": [
      "[nltk_data] Downloading package wordnet to\n",
      "[nltk_data]     C:\\Users\\madhu\\AppData\\Roaming\\nltk_data...\n",
      "[nltk_data]   Package wordnet is already up-to-date!\n"
     ]
    },
    {
     "data": {
      "text/plain": [
       "True"
      ]
     },
     "execution_count": 149,
     "metadata": {},
     "output_type": "execute_result"
    }
   ],
   "source": [
    "import nltk\n",
    "nltk.download('wordnet')"
   ]
  },
  {
   "cell_type": "code",
   "execution_count": 150,
   "metadata": {},
   "outputs": [
    {
     "name": "stdout",
     "output_type": "stream",
     "text": [
      "have\n"
     ]
    }
   ],
   "source": [
    "# Lemmatize example\n",
    "\n",
    "print(WordNetLemmatizer().lemmatize('had', pos='v'))"
   ]
  },
  {
   "cell_type": "code",
   "execution_count": 49,
   "metadata": {},
   "outputs": [
    {
     "data": {
      "text/html": [
       "<div>\n",
       "<style scoped>\n",
       "    .dataframe tbody tr th:only-of-type {\n",
       "        vertical-align: middle;\n",
       "    }\n",
       "\n",
       "    .dataframe tbody tr th {\n",
       "        vertical-align: top;\n",
       "    }\n",
       "\n",
       "    .dataframe thead th {\n",
       "        text-align: right;\n",
       "    }\n",
       "</style>\n",
       "<table border=\"1\" class=\"dataframe\">\n",
       "  <thead>\n",
       "    <tr style=\"text-align: right;\">\n",
       "      <th></th>\n",
       "      <th>original word</th>\n",
       "      <th>stemmed</th>\n",
       "    </tr>\n",
       "  </thead>\n",
       "  <tbody>\n",
       "    <tr>\n",
       "      <th>0</th>\n",
       "      <td>performances</td>\n",
       "      <td>perform</td>\n",
       "    </tr>\n",
       "    <tr>\n",
       "      <th>1</th>\n",
       "      <td>boredom</td>\n",
       "      <td>boredom</td>\n",
       "    </tr>\n",
       "    <tr>\n",
       "      <th>2</th>\n",
       "      <td>know</td>\n",
       "      <td>know</td>\n",
       "    </tr>\n",
       "    <tr>\n",
       "      <th>3</th>\n",
       "      <td>concerts</td>\n",
       "      <td>concert</td>\n",
       "    </tr>\n",
       "    <tr>\n",
       "      <th>4</th>\n",
       "      <td>wasted</td>\n",
       "      <td>wast</td>\n",
       "    </tr>\n",
       "    <tr>\n",
       "      <th>5</th>\n",
       "      <td>states</td>\n",
       "      <td>state</td>\n",
       "    </tr>\n",
       "  </tbody>\n",
       "</table>\n",
       "</div>"
      ],
      "text/plain": [
       "  original word  stemmed\n",
       "0  performances  perform\n",
       "1       boredom  boredom\n",
       "2          know     know\n",
       "3      concerts  concert\n",
       "4        wasted     wast\n",
       "5        states    state"
      ]
     },
     "execution_count": 49,
     "metadata": {},
     "output_type": "execute_result"
    }
   ],
   "source": [
    "#Stemmer Example\n",
    "# for  sample taking few words from newsdata csv\n",
    "\n",
    "stemmer = SnowballStemmer('english')\n",
    "original_words = ['performances', 'boredom', 'know', 'concerts', 'wasted', 'states',]\n",
    "singles = [stemmer.stem(plural) for plural in original_words]\n",
    "pd.DataFrame(data = {'original word': original_words, 'stemmed': singles})"
   ]
  },
  {
   "cell_type": "code",
   "execution_count": 151,
   "metadata": {},
   "outputs": [],
   "source": [
    "#  let's put lemmantation  and  stemmer  in function\n",
    "\n",
    "def lemmatize_stemming(text):\n",
    "    return stemmer.stem(WordNetLemmatizer().lemmatize(text, pos='v'))\n",
    "\n",
    "def preprocess(text):\n",
    "    result = []\n",
    "    for token in gensim.utils.simple_preprocess(text):\n",
    "        if token not in gensim.parsing.preprocessing.STOPWORDS and len(token) > 3:\n",
    "            result.append(lemmatize_stemming(token))\n",
    "    return result"
   ]
  },
  {
   "cell_type": "code",
   "execution_count": 153,
   "metadata": {},
   "outputs": [
    {
     "name": "stdout",
     "output_type": "stream",
     "text": [
      "original document: \n",
      "['80-plus', '&', 'leading', 'from', 'the', 'front', 'in', 'Covid-19', 'fight']\n",
      "\n",
      "\n",
      " tokenized and lemmatized document: \n",
      "['plus', 'lead', 'covid', 'fight']\n"
     ]
    }
   ],
   "source": [
    "doc_sample = doc_title[doc_title['index'] == 3].values[0][0]\n",
    "\n",
    "print('original document: ')\n",
    "words = []\n",
    "for word in doc_sample.split(' '):\n",
    "    words.append(word)\n",
    "print(words)\n",
    "print('\\n\\n tokenized and lemmatized document: ')\n",
    "print(preprocess(doc_sample))"
   ]
  },
  {
   "cell_type": "code",
   "execution_count": 154,
   "metadata": {},
   "outputs": [],
   "source": [
    "processed_docs = doc_title['Title'].map(preprocess)"
   ]
  },
  {
   "cell_type": "code",
   "execution_count": 155,
   "metadata": {},
   "outputs": [
    {
     "data": {
      "text/plain": [
       "0                          [india, post, ubiquit, box]\n",
       "1                  [mumbai, restaur, cook, idea, boil]\n",
       "2    [balconi, concert, help, lock, delhiit, beat, ...\n",
       "3                           [plus, lead, covid, fight]\n",
       "4    [local, bodi, wast, forc, grassroot, fight, co...\n",
       "5                                      [corona, thing]\n",
       "6                        [chef, plan, cook, quarantin]\n",
       "7                 [woe, hunger, depress, weigh, covid]\n",
       "8                          [lockdown, nuclear, famili]\n",
       "9    [telangana, corona, news, beat, virus, villag,...\n",
       "Name: Title, dtype: object"
      ]
     },
     "execution_count": 155,
     "metadata": {},
     "output_type": "execute_result"
    }
   ],
   "source": [
    "processed_docs[:10]"
   ]
  },
  {
   "cell_type": "code",
   "execution_count": 156,
   "metadata": {},
   "outputs": [],
   "source": [
    "#Bag of words on the dataset"
   ]
  },
  {
   "cell_type": "code",
   "execution_count": 157,
   "metadata": {},
   "outputs": [],
   "source": [
    "dictionary = gensim.corpora.Dictionary(processed_docs)"
   ]
  },
  {
   "cell_type": "code",
   "execution_count": 158,
   "metadata": {},
   "outputs": [
    {
     "name": "stdout",
     "output_type": "stream",
     "text": [
      "0 box\n",
      "1 india\n",
      "2 post\n",
      "3 ubiquit\n",
      "4 boil\n",
      "5 cook\n",
      "6 idea\n",
      "7 mumbai\n",
      "8 restaur\n",
      "9 balconi\n",
      "10 beat\n"
     ]
    }
   ],
   "source": [
    "count = 0\n",
    "for k, v in dictionary.iteritems():\n",
    "    print(k, v)\n",
    "    count += 1\n",
    "    if count > 10:\n",
    "        break"
   ]
  },
  {
   "cell_type": "code",
   "execution_count": 159,
   "metadata": {},
   "outputs": [],
   "source": [
    "dictionary = gensim.corpora.Dictionary(processed_docs) # processed_docs is a list of text documents"
   ]
  },
  {
   "cell_type": "code",
   "execution_count": 160,
   "metadata": {},
   "outputs": [
    {
     "data": {
      "text/plain": [
       "[(18, 1), (23, 1), (36, 1), (82, 1), (133, 1), (187, 1), (198, 1), (199, 1)]"
      ]
     },
     "execution_count": 160,
     "metadata": {},
     "output_type": "execute_result"
    }
   ],
   "source": [
    "corpus = [dictionary.doc2bow(doc) for doc in processed_docs]\n",
    "\n",
    "\n",
    "#print(dictionary.get(3))\n",
    "corpus[46]"
   ]
  },
  {
   "cell_type": "code",
   "execution_count": 161,
   "metadata": {},
   "outputs": [
    {
     "name": "stdout",
     "output_type": "stream",
     "text": [
      "Word 18 (\"covid\") appears 1 time.\n",
      "Word 23 (\"forc\") appears 1 time.\n",
      "Word 36 (\"famili\") appears 1 time.\n",
      "Word 82 (\"game\") appears 1 time.\n",
      "Word 133 (\"board\") appears 1 time.\n",
      "Word 187 (\"bring\") appears 1 time.\n",
      "Word 198 (\"indoor\") appears 1 time.\n",
      "Word 199 (\"tabl\") appears 1 time.\n"
     ]
    }
   ],
   "source": [
    "\n",
    "bow_doc_46 = corpus[46]\n",
    "\n",
    "for i in range(len(bow_doc_46)):\n",
    "    print(\"Word {} (\\\"{}\\\") appears {} time.\".format(bow_doc_46[i][0], \n",
    "                                                     dictionary[bow_doc_46[i][0]], \n",
    "                                                     bow_doc_46\n",
    "                                                     [i][1]))"
   ]
  },
  {
   "cell_type": "markdown",
   "metadata": {},
   "source": [
    "### model -TF-IDF"
   ]
  },
  {
   "cell_type": "code",
   "execution_count": 163,
   "metadata": {},
   "outputs": [],
   "source": [
    "from gensim import corpora, models\n",
    "\n",
    "tfidf = models.TfidfModel(corpus)"
   ]
  },
  {
   "cell_type": "code",
   "execution_count": 164,
   "metadata": {},
   "outputs": [],
   "source": [
    "\n",
    "corpus_tfidf = tfidf[corpus]"
   ]
  },
  {
   "cell_type": "code",
   "execution_count": 165,
   "metadata": {},
   "outputs": [
    {
     "name": "stdout",
     "output_type": "stream",
     "text": [
      "[(0, 0.5), (1, 0.5), (2, 0.5), (3, 0.5)]\n"
     ]
    }
   ],
   "source": [
    "from pprint import pprint\n",
    "\n",
    "for doc in corpus_tfidf:\n",
    "    pprint(doc)\n",
    "    break"
   ]
  },
  {
   "cell_type": "code",
   "execution_count": 166,
   "metadata": {},
   "outputs": [],
   "source": [
    "#Running LDA using Bag of Words"
   ]
  },
  {
   "cell_type": "code",
   "execution_count": 167,
   "metadata": {},
   "outputs": [],
   "source": [
    "lda_model = gensim.models.LdaMulticore(corpus, num_topics=10, id2word=dictionary, passes=2, workers=2)"
   ]
  },
  {
   "cell_type": "code",
   "execution_count": 168,
   "metadata": {},
   "outputs": [
    {
     "name": "stdout",
     "output_type": "stream",
     "text": [
      "Topic: 0 \n",
      "Words: 0.024*\"corona\" + 0.024*\"covid\" + 0.024*\"doctor\" + 0.024*\"social\" + 0.024*\"battl\" + 0.024*\"livestream\" + 0.024*\"jurist\" + 0.024*\"promot\" + 0.024*\"lectur\" + 0.024*\"cost\"\n",
      "Topic: 1 \n",
      "Words: 0.045*\"telangana\" + 0.023*\"corona\" + 0.023*\"quarantin\" + 0.023*\"go\" + 0.023*\"beat\" + 0.023*\"barrel\" + 0.023*\"lock\" + 0.023*\"news\" + 0.023*\"stock\" + 0.023*\"field\"\n",
      "Topic: 2 \n",
      "Words: 0.031*\"quarantin\" + 0.031*\"haircut\" + 0.031*\"face\" + 0.031*\"grow\" + 0.031*\"quirk\" + 0.031*\"granni\" + 0.031*\"maskindia\" + 0.031*\"cover\" + 0.031*\"habit\" + 0.031*\"time\"\n",
      "Topic: 3 \n",
      "Words: 0.043*\"covid\" + 0.022*\"mask\" + 0.022*\"nadu\" + 0.022*\"nomad\" + 0.022*\"communiti\" + 0.022*\"tamil\" + 0.022*\"gandhian\" + 0.022*\"uncertain\" + 0.022*\"day\" + 0.022*\"mind\"\n",
      "Topic: 4 \n",
      "Words: 0.048*\"covid\" + 0.025*\"battl\" + 0.025*\"give\" + 0.025*\"retro\" + 0.025*\"servic\" + 0.025*\"health\" + 0.025*\"pandem\" + 0.025*\"weigh\" + 0.025*\"rise\" + 0.025*\"garba\"\n",
      "Topic: 5 \n",
      "Words: 0.042*\"natur\" + 0.042*\"colour\" + 0.042*\"show\" + 0.042*\"true\" + 0.022*\"lake\" + 0.022*\"induc\" + 0.022*\"curious\" + 0.022*\"close\" + 0.022*\"bring\" + 0.022*\"bird\"\n",
      "Topic: 6 \n",
      "Words: 0.068*\"turn\" + 0.035*\"time\" + 0.035*\"natur\" + 0.035*\"grow\" + 0.035*\"forest\" + 0.035*\"professor\" + 0.035*\"virtual\" + 0.035*\"student\" + 0.035*\"safe\" + 0.035*\"doctor\"\n",
      "Topic: 7 \n",
      "Words: 0.033*\"fight\" + 0.017*\"neighbour\" + 0.017*\"balconi\" + 0.017*\"know\" + 0.017*\"break\" + 0.017*\"barrier\" + 0.017*\"beat\" + 0.017*\"bengaluru\" + 0.017*\"sew\" + 0.017*\"altern\"\n",
      "Topic: 8 \n",
      "Words: 0.052*\"lockdown\" + 0.027*\"restaur\" + 0.027*\"benefit\" + 0.027*\"root\" + 0.027*\"boss\" + 0.027*\"valparai\" + 0.027*\"cook\" + 0.027*\"like\" + 0.027*\"bigg\" + 0.027*\"breath\"\n",
      "Topic: 9 \n",
      "Words: 0.046*\"covid\" + 0.046*\"board\" + 0.046*\"forc\" + 0.046*\"game\" + 0.046*\"famili\" + 0.024*\"bring\" + 0.024*\"local\" + 0.024*\"indoor\" + 0.024*\"tabl\" + 0.024*\"wast\"\n"
     ]
    }
   ],
   "source": [
    "for idx, topic in lda_model.print_topics(-1):\n",
    "    print('Topic: {} \\nWords: {}'.format(idx, topic))"
   ]
  },
  {
   "cell_type": "markdown",
   "metadata": {},
   "source": [
    "Here we can diferenciate topics with different weights \n",
    "ex: doctor  carries 0.048 weight in topic 9\n",
    "    bengaluru carries 0.023 weight in topic 7"
   ]
  },
  {
   "cell_type": "code",
   "execution_count": 169,
   "metadata": {},
   "outputs": [],
   "source": [
    "#Running LDA using TF-IDF"
   ]
  },
  {
   "cell_type": "code",
   "execution_count": 170,
   "metadata": {},
   "outputs": [],
   "source": [
    "lda_model_tfidf = gensim.models.LdaMulticore(corpus_tfidf, num_topics=10, id2word=dictionary, passes=2, workers=4)"
   ]
  },
  {
   "cell_type": "code",
   "execution_count": 171,
   "metadata": {},
   "outputs": [
    {
     "name": "stdout",
     "output_type": "stream",
     "text": [
      "Topic: 0 Word: 0.023*\"fiesti\" + 0.023*\"granni\" + 0.023*\"sing\" + 0.021*\"boil\" + 0.021*\"idea\" + 0.021*\"mumbai\" + 0.019*\"go\" + 0.018*\"restaur\" + 0.018*\"cook\" + 0.016*\"neighbour\"\n",
      "Topic: 1 Word: 0.029*\"safe\" + 0.026*\"worri\" + 0.026*\"think\" + 0.024*\"doctor\" + 0.018*\"wast\" + 0.018*\"grassroot\" + 0.018*\"local\" + 0.018*\"bodi\" + 0.017*\"habit\" + 0.017*\"maskindia\"\n",
      "Topic: 2 Word: 0.025*\"chef\" + 0.025*\"plan\" + 0.021*\"garba\" + 0.021*\"cop\" + 0.021*\"retro\" + 0.021*\"cook\" + 0.019*\"tweak\" + 0.019*\"distanc\" + 0.019*\"promot\" + 0.019*\"social\"\n",
      "Topic: 3 Word: 0.017*\"game\" + 0.015*\"make\" + 0.015*\"comeback\" + 0.015*\"telangana\" + 0.013*\"corona\" + 0.012*\"board\" + 0.012*\"ventil\" + 0.012*\"cost\" + 0.012*\"conscienc\" + 0.012*\"thorn\"\n",
      "Topic: 4 Word: 0.024*\"shortfal\" + 0.024*\"relief\" + 0.024*\"granari\" + 0.021*\"countri\" + 0.021*\"breath\" + 0.021*\"benefit\" + 0.021*\"cleaner\" + 0.019*\"induc\" + 0.019*\"lake\" + 0.019*\"curfew\"\n",
      "Topic: 5 Word: 0.023*\"lockdown\" + 0.022*\"wall\" + 0.022*\"fit\" + 0.022*\"nuclear\" + 0.020*\"test\" + 0.020*\"slow\" + 0.019*\"serious\" + 0.019*\"sleep\" + 0.019*\"need\" + 0.018*\"famili\"\n",
      "Topic: 6 Word: 0.034*\"turn\" + 0.025*\"professor\" + 0.025*\"virtual\" + 0.025*\"forest\" + 0.021*\"student\" + 0.021*\"grow\" + 0.019*\"prove\" + 0.019*\"altern\" + 0.019*\"quackeri\" + 0.019*\"tradit\"\n",
      "Topic: 7 Word: 0.036*\"true\" + 0.036*\"colour\" + 0.036*\"show\" + 0.032*\"natur\" + 0.026*\"plus\" + 0.026*\"lead\" + 0.021*\"depress\" + 0.021*\"weigh\" + 0.021*\"woe\" + 0.021*\"hunger\"\n",
      "Topic: 8 Word: 0.031*\"thing\" + 0.021*\"corona\" + 0.020*\"box\" + 0.020*\"post\" + 0.020*\"india\" + 0.020*\"ubiquit\" + 0.018*\"work\" + 0.018*\"boss\" + 0.018*\"like\" + 0.018*\"bigg\"\n",
      "Topic: 9 Word: 0.031*\"mask\" + 0.021*\"khadi\" + 0.021*\"join\" + 0.021*\"gandhian\" + 0.020*\"beard\" + 0.020*\"quirk\" + 0.020*\"haircut\" + 0.020*\"shield\" + 0.020*\"mission\" + 0.020*\"volunt\"\n"
     ]
    }
   ],
   "source": [
    "for idx, topic in lda_model_tfidf.print_topics(-1):\n",
    "    print('Topic: {} Word: {}'.format(idx, topic))"
   ]
  },
  {
   "cell_type": "markdown",
   "metadata": {},
   "source": [
    "Classification of the topics"
   ]
  },
  {
   "cell_type": "code",
   "execution_count": 172,
   "metadata": {},
   "outputs": [],
   "source": [
    "#Performance evaluation by classifying sample document using LDA Bag of Words model\n",
    "\n"
   ]
  },
  {
   "cell_type": "code",
   "execution_count": 173,
   "metadata": {},
   "outputs": [
    {
     "data": {
      "text/plain": [
       "['covid', 'forc', 'famili', 'indoor', 'bring', 'board', 'game', 'tabl']"
      ]
     },
     "execution_count": 173,
     "metadata": {},
     "output_type": "execute_result"
    }
   ],
   "source": [
    "processed_docs[46]"
   ]
  },
  {
   "cell_type": "code",
   "execution_count": 174,
   "metadata": {},
   "outputs": [
    {
     "name": "stdout",
     "output_type": "stream",
     "text": [
      "\n",
      "Score: 0.8999975919723511\t \n",
      "Topic: 0.046*\"covid\" + 0.046*\"board\" + 0.046*\"forc\" + 0.046*\"game\" + 0.046*\"famili\" + 0.024*\"bring\" + 0.024*\"local\" + 0.024*\"indoor\" + 0.024*\"tabl\" + 0.024*\"wast\"\n",
      "\n",
      "Score: 0.011111749336123466\t \n",
      "Topic: 0.043*\"covid\" + 0.022*\"mask\" + 0.022*\"nadu\" + 0.022*\"nomad\" + 0.022*\"communiti\" + 0.022*\"tamil\" + 0.022*\"gandhian\" + 0.022*\"uncertain\" + 0.022*\"day\" + 0.022*\"mind\"\n",
      "\n",
      "Score: 0.011111737228929996\t \n",
      "Topic: 0.042*\"natur\" + 0.042*\"colour\" + 0.042*\"show\" + 0.042*\"true\" + 0.022*\"lake\" + 0.022*\"induc\" + 0.022*\"curious\" + 0.022*\"close\" + 0.022*\"bring\" + 0.022*\"bird\"\n",
      "\n",
      "Score: 0.011111623607575893\t \n",
      "Topic: 0.048*\"covid\" + 0.025*\"battl\" + 0.025*\"give\" + 0.025*\"retro\" + 0.025*\"servic\" + 0.025*\"health\" + 0.025*\"pandem\" + 0.025*\"weigh\" + 0.025*\"rise\" + 0.025*\"garba\"\n",
      "\n",
      "Score: 0.011111347936093807\t \n",
      "Topic: 0.024*\"corona\" + 0.024*\"covid\" + 0.024*\"doctor\" + 0.024*\"social\" + 0.024*\"battl\" + 0.024*\"livestream\" + 0.024*\"jurist\" + 0.024*\"promot\" + 0.024*\"lectur\" + 0.024*\"cost\"\n",
      "\n",
      "Score: 0.011111296713352203\t \n",
      "Topic: 0.033*\"fight\" + 0.017*\"neighbour\" + 0.017*\"balconi\" + 0.017*\"know\" + 0.017*\"break\" + 0.017*\"barrier\" + 0.017*\"beat\" + 0.017*\"bengaluru\" + 0.017*\"sew\" + 0.017*\"altern\"\n",
      "\n",
      "Score: 0.011111169122159481\t \n",
      "Topic: 0.045*\"telangana\" + 0.023*\"corona\" + 0.023*\"quarantin\" + 0.023*\"go\" + 0.023*\"beat\" + 0.023*\"barrel\" + 0.023*\"lock\" + 0.023*\"news\" + 0.023*\"stock\" + 0.023*\"field\"\n",
      "\n",
      "Score: 0.011111169122159481\t \n",
      "Topic: 0.031*\"quarantin\" + 0.031*\"haircut\" + 0.031*\"face\" + 0.031*\"grow\" + 0.031*\"quirk\" + 0.031*\"granni\" + 0.031*\"maskindia\" + 0.031*\"cover\" + 0.031*\"habit\" + 0.031*\"time\"\n",
      "\n",
      "Score: 0.011111169122159481\t \n",
      "Topic: 0.068*\"turn\" + 0.035*\"time\" + 0.035*\"natur\" + 0.035*\"grow\" + 0.035*\"forest\" + 0.035*\"professor\" + 0.035*\"virtual\" + 0.035*\"student\" + 0.035*\"safe\" + 0.035*\"doctor\"\n",
      "\n",
      "Score: 0.011111169122159481\t \n",
      "Topic: 0.052*\"lockdown\" + 0.027*\"restaur\" + 0.027*\"benefit\" + 0.027*\"root\" + 0.027*\"boss\" + 0.027*\"valparai\" + 0.027*\"cook\" + 0.027*\"like\" + 0.027*\"bigg\" + 0.027*\"breath\"\n"
     ]
    }
   ],
   "source": [
    "for index, score in sorted(lda_model[corpus[46]], key=lambda tup: -1*tup[1]):\n",
    "    print(\"\\nScore: {}\\t \\nTopic: {}\".format(score, lda_model.print_topic(index, 10)))"
   ]
  },
  {
   "cell_type": "markdown",
   "metadata": {},
   "source": [
    "\n",
    "From test , we can say that highest score topic, most  probabily on top "
   ]
  },
  {
   "cell_type": "code",
   "execution_count": 175,
   "metadata": {},
   "outputs": [],
   "source": [
    "#Performance evaluation by classifying sample document using LDA TF-IDF model"
   ]
  },
  {
   "cell_type": "code",
   "execution_count": 176,
   "metadata": {},
   "outputs": [
    {
     "name": "stdout",
     "output_type": "stream",
     "text": [
      "\n",
      "Score: 0.8999812006950378\t \n",
      "Topic: 0.031*\"thing\" + 0.021*\"corona\" + 0.020*\"box\" + 0.020*\"post\" + 0.020*\"india\" + 0.020*\"ubiquit\" + 0.018*\"work\" + 0.018*\"boss\" + 0.018*\"like\" + 0.018*\"bigg\"\n",
      "\n",
      "Score: 0.011116654612123966\t \n",
      "Topic: 0.017*\"game\" + 0.015*\"make\" + 0.015*\"comeback\" + 0.015*\"telangana\" + 0.013*\"corona\" + 0.012*\"board\" + 0.012*\"ventil\" + 0.012*\"cost\" + 0.012*\"conscienc\" + 0.012*\"thorn\"\n",
      "\n",
      "Score: 0.011115459725260735\t \n",
      "Topic: 0.036*\"true\" + 0.036*\"colour\" + 0.036*\"show\" + 0.032*\"natur\" + 0.026*\"plus\" + 0.026*\"lead\" + 0.021*\"depress\" + 0.021*\"weigh\" + 0.021*\"woe\" + 0.021*\"hunger\"\n",
      "\n",
      "Score: 0.011114120483398438\t \n",
      "Topic: 0.025*\"chef\" + 0.025*\"plan\" + 0.021*\"garba\" + 0.021*\"cop\" + 0.021*\"retro\" + 0.021*\"cook\" + 0.019*\"tweak\" + 0.019*\"distanc\" + 0.019*\"promot\" + 0.019*\"social\"\n",
      "\n",
      "Score: 0.011112520471215248\t \n",
      "Topic: 0.023*\"lockdown\" + 0.022*\"wall\" + 0.022*\"fit\" + 0.022*\"nuclear\" + 0.020*\"test\" + 0.020*\"slow\" + 0.019*\"serious\" + 0.019*\"sleep\" + 0.019*\"need\" + 0.018*\"famili\"\n",
      "\n",
      "Score: 0.011112510226666927\t \n",
      "Topic: 0.029*\"safe\" + 0.026*\"worri\" + 0.026*\"think\" + 0.024*\"doctor\" + 0.018*\"wast\" + 0.018*\"grassroot\" + 0.018*\"local\" + 0.018*\"bodi\" + 0.017*\"habit\" + 0.017*\"maskindia\"\n",
      "\n",
      "Score: 0.011112234555184841\t \n",
      "Topic: 0.031*\"mask\" + 0.021*\"khadi\" + 0.021*\"join\" + 0.021*\"gandhian\" + 0.020*\"beard\" + 0.020*\"quirk\" + 0.020*\"haircut\" + 0.020*\"shield\" + 0.020*\"mission\" + 0.020*\"volunt\"\n",
      "\n",
      "Score: 0.011112033389508724\t \n",
      "Topic: 0.024*\"shortfal\" + 0.024*\"relief\" + 0.024*\"granari\" + 0.021*\"countri\" + 0.021*\"breath\" + 0.021*\"benefit\" + 0.021*\"cleaner\" + 0.019*\"induc\" + 0.019*\"lake\" + 0.019*\"curfew\"\n",
      "\n",
      "Score: 0.011111616156995296\t \n",
      "Topic: 0.023*\"fiesti\" + 0.023*\"granni\" + 0.023*\"sing\" + 0.021*\"boil\" + 0.021*\"idea\" + 0.021*\"mumbai\" + 0.019*\"go\" + 0.018*\"restaur\" + 0.018*\"cook\" + 0.016*\"neighbour\"\n",
      "\n",
      "Score: 0.011111616156995296\t \n",
      "Topic: 0.034*\"turn\" + 0.025*\"professor\" + 0.025*\"virtual\" + 0.025*\"forest\" + 0.021*\"student\" + 0.021*\"grow\" + 0.019*\"prove\" + 0.019*\"altern\" + 0.019*\"quackeri\" + 0.019*\"tradit\"\n"
     ]
    }
   ],
   "source": [
    "for index, score in sorted(lda_model_tfidf[corpus[46]], key=lambda tup: -1*tup[1]):\n",
    "    print(\"\\nScore: {}\\t \\nTopic: {}\".format(score, lda_model_tfidf.print_topic(index, 10)))"
   ]
  },
  {
   "cell_type": "markdown",
   "metadata": {},
   "source": [
    " Here also high score topic has highest probability on top, may  go viral"
   ]
  },
  {
   "cell_type": "markdown",
   "metadata": {},
   "source": [
    "### Testing model\n",
    "Test Data is from unkown source"
   ]
  },
  {
   "cell_type": "code",
   "execution_count": 181,
   "metadata": {},
   "outputs": [
    {
     "name": "stdout",
     "output_type": "stream",
     "text": [
      "Score: 0.6999762058258057\t Topic: 0.043*\"covid\" + 0.022*\"mask\" + 0.022*\"nadu\" + 0.022*\"nomad\" + 0.022*\"communiti\"\n",
      "Score: 0.033341433852910995\t Topic: 0.048*\"covid\" + 0.025*\"battl\" + 0.025*\"give\" + 0.025*\"retro\" + 0.025*\"servic\"\n",
      "Score: 0.033340513706207275\t Topic: 0.046*\"covid\" + 0.046*\"board\" + 0.046*\"forc\" + 0.046*\"game\" + 0.046*\"famili\"\n",
      "Score: 0.033336229622364044\t Topic: 0.024*\"corona\" + 0.024*\"covid\" + 0.024*\"doctor\" + 0.024*\"social\" + 0.024*\"battl\"\n",
      "Score: 0.033335957676172256\t Topic: 0.042*\"natur\" + 0.042*\"colour\" + 0.042*\"show\" + 0.042*\"true\" + 0.022*\"lake\"\n",
      "Score: 0.033335454761981964\t Topic: 0.033*\"fight\" + 0.017*\"neighbour\" + 0.017*\"balconi\" + 0.017*\"know\" + 0.017*\"break\"\n",
      "Score: 0.03333354741334915\t Topic: 0.045*\"telangana\" + 0.023*\"corona\" + 0.023*\"quarantin\" + 0.023*\"go\" + 0.023*\"beat\"\n",
      "Score: 0.03333354741334915\t Topic: 0.031*\"quarantin\" + 0.031*\"haircut\" + 0.031*\"face\" + 0.031*\"grow\" + 0.031*\"quirk\"\n",
      "Score: 0.03333354741334915\t Topic: 0.068*\"turn\" + 0.035*\"time\" + 0.035*\"natur\" + 0.035*\"grow\" + 0.035*\"forest\"\n",
      "Score: 0.03333354741334915\t Topic: 0.052*\"lockdown\" + 0.027*\"restaur\" + 0.027*\"benefit\" + 0.027*\"root\" + 0.027*\"boss\"\n"
     ]
    }
   ],
   "source": [
    "unseen_document = 'Test kit  on covid -19'\n",
    "bow_vector = dictionary.doc2bow(preprocess(unseen_document))\n",
    "\n",
    "for index, score in sorted(lda_model[bow_vector], key=lambda tup: -1*tup[1]):\n",
    "    print(\"Score: {}\\t Topic: {}\".format(score, lda_model.print_topic(index, 5)))"
   ]
  },
  {
   "cell_type": "code",
   "execution_count": 129,
   "metadata": {},
   "outputs": [
    {
     "data": {
      "text/plain": [
       "[(23, 1), (89, 1), (118, 1)]"
      ]
     },
     "execution_count": 129,
     "metadata": {},
     "output_type": "execute_result"
    }
   ],
   "source": [
    "#bow_vector"
   ]
  },
  {
   "cell_type": "code",
   "execution_count": 131,
   "metadata": {},
   "outputs": [
    {
     "name": "stdout",
     "output_type": "stream",
     "text": [
      "Word 23 (\"corona\") appears 1 time.\n",
      "Word 89 (\"battl\") appears 1 time.\n",
      "Word 118 (\"bengaluru\") appears 1 time.\n"
     ]
    }
   ],
   "source": [
    "#for i in range(len(bow_vector)):\n",
    "    #print(\"Word {} (\\\"{}\\\") appears {} time.\".format(bow_vector[i][0], \n",
    "                                                    # dictionary[bow_vector[i][0]], \n",
    "                                                    #bow_vector\n",
    "                                                     #[i][1])) "
   ]
  },
  {
   "cell_type": "markdown",
   "metadata": {},
   "source": [
    "#### Conclusion: Maxium chances  of  news or topic goes  viral , on the  bases  of high score"
   ]
  },
  {
   "cell_type": "markdown",
   "metadata": {},
   "source": [
    "Area of work can be  further  carried  out  using RF,NN, and on different features like Title+text+image , summary, keywords etc\n"
   ]
  },
  {
   "cell_type": "code",
   "execution_count": null,
   "metadata": {},
   "outputs": [],
   "source": []
  }
 ],
 "metadata": {
  "kernelspec": {
   "display_name": "Python 3",
   "language": "python",
   "name": "python3"
  },
  "language_info": {
   "codemirror_mode": {
    "name": "ipython",
    "version": 3
   },
   "file_extension": ".py",
   "mimetype": "text/x-python",
   "name": "python",
   "nbconvert_exporter": "python",
   "pygments_lexer": "ipython3",
   "version": "3.6.5"
  }
 },
 "nbformat": 4,
 "nbformat_minor": 2
}
